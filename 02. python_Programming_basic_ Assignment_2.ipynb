{
 "cells": [
  {
   "cell_type": "markdown",
   "metadata": {},
   "source": [
    "# python_Programming_basic_ Assignment_2"
   ]
  },
  {
   "cell_type": "markdown",
   "metadata": {},
   "source": [
    "1. Write a Python program to convert kilometers to miles?\n"
   ]
  },
  {
   "cell_type": "code",
   "execution_count": 1,
   "metadata": {},
   "outputs": [
    {
     "name": "stdout",
     "output_type": "stream",
     "text": [
      "enter km: 3\n",
      "1.8641130000000001\n"
     ]
    }
   ],
   "source": [
    "km=float(input('enter km: '))\n",
    "mile=0.621371\n",
    "km_to_miles=km*mile\n",
    "print(km_to_miles)"
   ]
  },
  {
   "cell_type": "markdown",
   "metadata": {},
   "source": [
    "2. Write a Python program to convert Celsius to Fahrenheit?\n"
   ]
  },
  {
   "cell_type": "code",
   "execution_count": 2,
   "metadata": {},
   "outputs": [
    {
     "name": "stdout",
     "output_type": "stream",
     "text": [
      "enter temperature in celsius:3\n",
      "37.4\n"
     ]
    }
   ],
   "source": [
    "#formula to convert celsius to farenheit is (0°C × 9/5) + 32 = 32°F\n",
    "celsius=float(input('enter temperature in celsius:'))\n",
    "farenheit=(celsius*9/5)+32\n",
    "print(farenheit)"
   ]
  },
  {
   "cell_type": "markdown",
   "metadata": {},
   "source": [
    "3. Write a Python program to display calendar?\n"
   ]
  },
  {
   "cell_type": "code",
   "execution_count": 10,
   "metadata": {},
   "outputs": [
    {
     "name": "stdout",
     "output_type": "stream",
     "text": [
      "enter month:3\n",
      "enter year: 2005\n",
      "     March 2005\n",
      "Mo Tu We Th Fr Sa Su\n",
      "    1  2  3  4  5  6\n",
      " 7  8  9 10 11 12 13\n",
      "14 15 16 17 18 19 20\n",
      "21 22 23 24 25 26 27\n",
      "28 29 30 31\n",
      "\n"
     ]
    }
   ],
   "source": [
    "import calendar\n",
    "mm=int(input('enter month:'))\n",
    "yy=int(input('enter year: '))\n",
    "print(calendar.month(yy,mm))"
   ]
  },
  {
   "cell_type": "markdown",
   "metadata": {},
   "source": [
    "4. Write a Python program to solve quadratic equation?\n"
   ]
  },
  {
   "cell_type": "code",
   "execution_count": 16,
   "metadata": {},
   "outputs": [
    {
     "name": "stdout",
     "output_type": "stream",
     "text": [
      "Enter Equation in the form of ax2 + bx+ c\n",
      "\n",
      "Enter coeff a: 25\n",
      "Enter coeff b: 16\n",
      "Enter coeff c: 9\n",
      "The roots are: \n",
      "(-0.32-0.5075431016179808j)\n",
      "(-0.32+0.5075431016179808j)\n"
     ]
    }
   ],
   "source": [
    "# First, we bring the equation to the form ax²+bx+c=0, where a, b, and c are coefficients. \n",
    "# Then, we plug these coefficients in the formula: (-b±√(b²-4ac))/(2a) .here,D=√(b²-4ac)) known as discriminant\n",
    "#Python program to solve quadratic equation using math module\n",
    "\n",
    "import cmath\n",
    "\n",
    "print(\"Enter Equation in the form of ax2 + bx+ c\\n\")  \n",
    "a = int(input(\"Enter coeff a: \"))\n",
    "b = int(input(\"Enter coeff b: \"))\n",
    "c = int(input(\"Enter coeff c: \"))\n",
    "  \n",
    "# Computing the Discriminat value\n",
    "D = (b*b) - (4*a*c)\n",
    "  \n",
    "# find two results\n",
    "root1 = (-b - cmath.sqrt(D))/(2 * a)\n",
    "root2 = (-b + cmath.sqrt(D))/(2 * a)\n",
    "  \n",
    "# printing the results\n",
    "print(\"The roots are: \")\n",
    "print(root1)\n",
    "print(root2)\n"
   ]
  },
  {
   "cell_type": "markdown",
   "metadata": {},
   "source": [
    "5. Write a Python program to swap two variables without temp variable?"
   ]
  },
  {
   "cell_type": "code",
   "execution_count": null,
   "metadata": {},
   "outputs": [],
   "source": [
    "\n",
    "x=2\n",
    "y=5\n",
    "x,y=y,x\n",
    "print(x)\n",
    "print(y)"
   ]
  }
 ],
 "metadata": {
  "kernelspec": {
   "display_name": "Python 3",
   "language": "python",
   "name": "python3"
  },
  "language_info": {
   "codemirror_mode": {
    "name": "ipython",
    "version": 3
   },
   "file_extension": ".py",
   "mimetype": "text/x-python",
   "name": "python",
   "nbconvert_exporter": "python",
   "pygments_lexer": "ipython3",
   "version": "3.8.5"
  }
 },
 "nbformat": 4,
 "nbformat_minor": 4
}
