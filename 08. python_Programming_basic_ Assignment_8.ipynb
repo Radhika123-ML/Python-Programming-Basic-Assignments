{
 "cells": [
  {
   "cell_type": "markdown",
   "metadata": {},
   "source": [
    "# python_Programming_basic_ Assignment_8"
   ]
  },
  {
   "cell_type": "markdown",
   "metadata": {},
   "source": [
    "1. Write a Python Program to Add Two Matrices?\n"
   ]
  },
  {
   "cell_type": "code",
   "execution_count": 14,
   "metadata": {},
   "outputs": [
    {
     "name": "stdout",
     "output_type": "stream",
     "text": [
      "[7, 10, 14]\n",
      "[6, 9, 9]\n",
      "[11, 8, 14]\n"
     ]
    }
   ],
   "source": [
    "a=[[1,3,6],[3,5,4],[9,7,8]]\n",
    "b=[[6,7,8],[3,4,5],[2,1,6]]\n",
    "sum_ab=[[0,0,0],[0,0,0],[0,0,0]]\n",
    "for i in range (len(a)):\n",
    "    for j in range (len (a[0])):\n",
    "        sum_ab[i][j]=a[i][j]+b[i][j]\n",
    "for k in sum_ab:\n",
    "    print(k)\n"
   ]
  },
  {
   "cell_type": "markdown",
   "metadata": {},
   "source": [
    "2. Write a Python Program to Multiply Two Matrices?\n",
    " "
   ]
  },
  {
   "cell_type": "code",
   "execution_count": 22,
   "metadata": {},
   "outputs": [
    {
     "name": "stdout",
     "output_type": "stream",
     "text": [
      "[24, 55, 53, 55]\n",
      "[42, 65, 69, 61]\n",
      "[90, 139, 147, 119]\n"
     ]
    }
   ],
   "source": [
    "a=[[1,3,6],[3,5,4],[9,7,8]]\n",
    "b=[[6,7,8,4],[4,4,5,5],[1,6,5,6]]\n",
    "multiply_ab=[[0,0,0,0],[0,0,0,0],[0,0,0,0]]\n",
    "for i in range (len(a)):\n",
    "    for j in range (len (b[0])):\n",
    "        for k in range (len (b)):\n",
    "              multiply_ab[i][j]+=a[i][k]*b[k][j]\n",
    "for k in multiply_ab:\n",
    "    print(k)\n"
   ]
  },
  {
   "cell_type": "markdown",
   "metadata": {},
   "source": [
    "3. Write a Python Program to Transpose a Matrix?\n"
   ]
  },
  {
   "cell_type": "code",
   "execution_count": 38,
   "metadata": {},
   "outputs": [
    {
     "name": "stdout",
     "output_type": "stream",
     "text": [
      "[24, 42, 90]\n",
      "[55, 65, 139]\n",
      "[53, 69, 147]\n",
      "[55, 61, 119]\n"
     ]
    }
   ],
   "source": [
    "matrix=[[24, 55, 53, 55],[42, 65, 69, 61],[90, 139, 147, 119]]\n",
    "transpose_result=[[0,0,0,],[0,0,0],[0,0,0],[0,0,0]]\n",
    "for i in range (len (matrix)):\n",
    "    for j in range (len (matrix[0])):\n",
    "        transpose_result[j][i]=matrix[i][j]\n",
    "for r in transpose_result:\n",
    "    print(r)\n",
    "        \n"
   ]
  },
  {
   "cell_type": "markdown",
   "metadata": {},
   "source": [
    "4. Write a Python Program to Sort Words in Alphabetic Order?\n"
   ]
  },
  {
   "cell_type": "code",
   "execution_count": 53,
   "metadata": {},
   "outputs": [
    {
     "name": "stdout",
     "output_type": "stream",
     "text": [
      "am\n",
      "an\n",
      "and\n",
      "i\n",
      "indian\n",
      "is\n",
      "my\n",
      "name\n",
      "radhika\n"
     ]
    }
   ],
   "source": [
    "name='my name is radhika and i am an indian'\n",
    "list_words=name.split(' ')\n",
    "list_words.sort()\n",
    "for i in list_words:\n",
    "    print(i)"
   ]
  },
  {
   "cell_type": "markdown",
   "metadata": {},
   "source": [
    "5. Write a Python Program to Remove Punctuation From a String?"
   ]
  },
  {
   "cell_type": "code",
   "execution_count": 57,
   "metadata": {},
   "outputs": [
    {
     "name": "stdout",
     "output_type": "stream",
     "text": [
      "hello i am radhika mishra and i am an indian\n"
     ]
    }
   ],
   "source": [
    "punctuations = '''!()-[]{};:'\"\\,<>./?@#$%^&*_~'''\n",
    "my_string='hello! i am radhika mishra. and i am an indian###'\n",
    "no_punct_string=''\n",
    "for i in my_string:\n",
    "    if i not in punctuations:\n",
    "        no_punct_string+=i\n",
    "print(no_punct_string)\n",
    "        \n",
    "    \n",
    "\n"
   ]
  },
  {
   "cell_type": "code",
   "execution_count": null,
   "metadata": {},
   "outputs": [],
   "source": []
  }
 ],
 "metadata": {
  "kernelspec": {
   "display_name": "Python 3",
   "language": "python",
   "name": "python3"
  },
  "language_info": {
   "codemirror_mode": {
    "name": "ipython",
    "version": 3
   },
   "file_extension": ".py",
   "mimetype": "text/x-python",
   "name": "python",
   "nbconvert_exporter": "python",
   "pygments_lexer": "ipython3",
   "version": "3.8.5"
  }
 },
 "nbformat": 4,
 "nbformat_minor": 4
}
