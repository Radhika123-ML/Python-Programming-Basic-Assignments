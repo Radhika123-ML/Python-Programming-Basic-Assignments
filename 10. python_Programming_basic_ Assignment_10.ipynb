{
 "cells": [
  {
   "cell_type": "markdown",
   "metadata": {},
   "source": [
    "# python_Programming_basic_ Assignment_10"
   ]
  },
  {
   "cell_type": "markdown",
   "metadata": {},
   "source": [
    "1. Write a Python program to find sum of elements in list?\n"
   ]
  },
  {
   "cell_type": "code",
   "execution_count": 3,
   "metadata": {},
   "outputs": [
    {
     "name": "stdout",
     "output_type": "stream",
     "text": [
      "sum of all the elements in a list is 45\n"
     ]
    }
   ],
   "source": [
    "list_1=[1,2,3,4,5,6,7,8,9,0]\n",
    "sum=0\n",
    "for i in list_1:\n",
    "    sum+=i\n",
    "print(f\"sum of all the elements in a list is {sum}\")"
   ]
  },
  {
   "cell_type": "markdown",
   "metadata": {},
   "source": [
    "2. Write a Python program to Multiply all numbers in the list?\n"
   ]
  },
  {
   "cell_type": "code",
   "execution_count": 13,
   "metadata": {},
   "outputs": [
    {
     "name": "stdout",
     "output_type": "stream",
     "text": [
      "689990400 is the product of all the elements of list_2\n"
     ]
    }
   ],
   "source": [
    "list_2=[6,5,2,44,66,8,9,55]\n",
    "multiply=1\n",
    "for i in list_2:\n",
    "    multiply=multiply*i\n",
    "print(f\"{multiply} is the product of all the elements of list_2\" )"
   ]
  },
  {
   "cell_type": "markdown",
   "metadata": {},
   "source": [
    "3. Write a Python program to find smallest number in a list?\n"
   ]
  },
  {
   "cell_type": "code",
   "execution_count": 9,
   "metadata": {},
   "outputs": [
    {
     "data": {
      "text/plain": [
       "23"
      ]
     },
     "execution_count": 9,
     "metadata": {},
     "output_type": "execute_result"
    }
   ],
   "source": [
    "list_3=[33,55,23,83,65,41,84,552,53]\n",
    "list_3.sort()\n",
    "list_3[0]"
   ]
  },
  {
   "cell_type": "markdown",
   "metadata": {},
   "source": [
    "4. Write a Python program to find largest number in a list?\n"
   ]
  },
  {
   "cell_type": "code",
   "execution_count": 10,
   "metadata": {},
   "outputs": [
    {
     "data": {
      "text/plain": [
       "552"
      ]
     },
     "execution_count": 10,
     "metadata": {},
     "output_type": "execute_result"
    }
   ],
   "source": [
    "list_3=[33,55,23,83,65,41,84,552,53]\n",
    "list_3.sort()\n",
    "list_3[-1]"
   ]
  },
  {
   "cell_type": "markdown",
   "metadata": {},
   "source": [
    "5. Write a Python program to find second largest number in a list?\n"
   ]
  },
  {
   "cell_type": "code",
   "execution_count": 11,
   "metadata": {},
   "outputs": [
    {
     "data": {
      "text/plain": [
       "84"
      ]
     },
     "execution_count": 11,
     "metadata": {},
     "output_type": "execute_result"
    }
   ],
   "source": [
    "list_3=[33,55,23,83,65,41,84,552,53]\n",
    "list_3.sort()\n",
    "list_3[-2]"
   ]
  },
  {
   "cell_type": "markdown",
   "metadata": {},
   "source": [
    "6. Write a Python program to find N largest elements from a list?\n"
   ]
  },
  {
   "cell_type": "code",
   "execution_count": 25,
   "metadata": {},
   "outputs": [
    {
     "name": "stdout",
     "output_type": "stream",
     "text": [
      "NlargestnumberOfElements: 4\n"
     ]
    },
    {
     "data": {
      "text/plain": [
       "[92, 263, 645, 8374]"
      ]
     },
     "execution_count": 25,
     "metadata": {},
     "output_type": "execute_result"
    }
   ],
   "source": [
    "N=int(input(\"NlargestnumberOfElements: \"))\n",
    "list_4=[4,55,33,82,53,64,92,64,66,263,8374,645,73,73,64,92,9]\n",
    "list_4.sort()\n",
    "list_4[-N:]"
   ]
  },
  {
   "cell_type": "markdown",
   "metadata": {},
   "source": [
    "7. Write a Python program to print even numbers in a list?\n"
   ]
  },
  {
   "cell_type": "code",
   "execution_count": 28,
   "metadata": {},
   "outputs": [
    {
     "name": "stdout",
     "output_type": "stream",
     "text": [
      "[4, 82, 64, 92, 64, 66, 8374, 64, 92]\n"
     ]
    }
   ],
   "source": [
    "list_4=[4,55,33,82,53,64,92,64,66,263,8374,645,73,73,64,92,9]\n",
    "even_number=[]\n",
    "for i in list_4:\n",
    "    if i%2==0:\n",
    "        even_number.append(i)\n",
    "print(even_number)\n",
    "    \n",
    "        \n"
   ]
  },
  {
   "cell_type": "markdown",
   "metadata": {},
   "source": [
    "8. Write a Python program to print odd numbers in a List?\n"
   ]
  },
  {
   "cell_type": "code",
   "execution_count": 29,
   "metadata": {},
   "outputs": [
    {
     "name": "stdout",
     "output_type": "stream",
     "text": [
      "[55, 33, 53, 263, 645, 73, 73, 9]\n"
     ]
    }
   ],
   "source": [
    "list_4=[4,55,33,82,53,64,92,64,66,263,8374,645,73,73,64,92,9]\n",
    "odd_number=[]\n",
    "for i in list_4:\n",
    "    if i%2!=0:\n",
    "        odd_number.append(i)\n",
    "print(odd_number)\n",
    "    "
   ]
  },
  {
   "cell_type": "markdown",
   "metadata": {},
   "source": [
    "9. Write a Python program to Remove empty List from List?\n"
   ]
  },
  {
   "cell_type": "code",
   "execution_count": 35,
   "metadata": {},
   "outputs": [
    {
     "name": "stdout",
     "output_type": "stream",
     "text": [
      "[1, 2, 3, 4, 5, 3, 4, 88, 55, 3]\n"
     ]
    }
   ],
   "source": [
    "list_5=[1,2,3,4,5,[],3,4,88,55,3]\n",
    "for i in list_5:\n",
    "    if i==[]:\n",
    "        list_5.remove(i)\n",
    "        print(list_5)"
   ]
  },
  {
   "cell_type": "markdown",
   "metadata": {},
   "source": [
    "10. Write a Python program to Cloning or Copying a list?\n"
   ]
  },
  {
   "cell_type": "code",
   "execution_count": 39,
   "metadata": {},
   "outputs": [
    {
     "name": "stdout",
     "output_type": "stream",
     "text": [
      "[4, 55, 33, 82, 53, 64, 92, 64, 66, 263, 8374, 645, 73, 73, 64, 92, 9]\n"
     ]
    }
   ],
   "source": [
    "list_4=[4,55,33,82,53,64,92,64,66,263,8374,645,73,73,64,92,9]\n",
    "list_5=list_4.copy()\n",
    "print(list_5)"
   ]
  },
  {
   "cell_type": "markdown",
   "metadata": {},
   "source": [
    "11. Write a Python program to Count occurrences of an element in a list?"
   ]
  },
  {
   "cell_type": "code",
   "execution_count": 61,
   "metadata": {},
   "outputs": [
    {
     "name": "stdout",
     "output_type": "stream",
     "text": [
      "enter the element to be counted: 1\n",
      "2\n"
     ]
    }
   ],
   "source": [
    "list_6=[1,1,2,3,4,5,6,7,8,9,4,5,6,7,8,5,5,6,3]\n",
    "count=0\n",
    "num=input(\"enter the element to be counted: \")\n",
    "count_num=list_6.count(int(num))\n",
    "print(count_num)\n"
   ]
  },
  {
   "cell_type": "code",
   "execution_count": null,
   "metadata": {},
   "outputs": [],
   "source": []
  }
 ],
 "metadata": {
  "kernelspec": {
   "display_name": "Python 3",
   "language": "python",
   "name": "python3"
  },
  "language_info": {
   "codemirror_mode": {
    "name": "ipython",
    "version": 3
   },
   "file_extension": ".py",
   "mimetype": "text/x-python",
   "name": "python",
   "nbconvert_exporter": "python",
   "pygments_lexer": "ipython3",
   "version": "3.8.5"
  }
 },
 "nbformat": 4,
 "nbformat_minor": 4
}
