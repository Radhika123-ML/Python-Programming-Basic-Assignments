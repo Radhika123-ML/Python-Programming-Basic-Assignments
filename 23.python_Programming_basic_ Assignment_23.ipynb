{
 "cells": [
  {
   "cell_type": "markdown",
   "metadata": {},
   "source": [
    "## python_Programming_basic_ Assignment_23"
   ]
  },
  {
   "cell_type": "raw",
   "metadata": {},
   "source": [
    "Question 1\n",
    "Create a function that takes a number as an argument and returns True or False depending on whether the number is symmetrical or not. A number is symmetrical when it is the same as its reverse.\n",
    "Examples\n",
    "is_symmetrical(7227) ➞ True\n",
    "\n",
    "is_symmetrical(12567) ➞ False\n",
    "\n",
    "is_symmetrical(44444444) ➞ True\n",
    "\n",
    "is_symmetrical(9939) ➞ False\n",
    "\n",
    "is_symmetrical(1112111) ➞ True\n",
    "\n"
   ]
  },
  {
   "cell_type": "code",
   "execution_count": 1,
   "metadata": {},
   "outputs": [
    {
     "name": "stdout",
     "output_type": "stream",
     "text": [
      "True\n",
      "False\n",
      "True\n",
      "False\n",
      "True\n"
     ]
    }
   ],
   "source": [
    "def is_symmetrical(num):\n",
    "    num_str = str(num)\n",
    "    if num_str == num_str[::-1]:\n",
    "        return True\n",
    "    else:\n",
    "        return False\n",
    "print(is_symmetrical(7227))     # True\n",
    "print(is_symmetrical(12567))    # False\n",
    "print(is_symmetrical(44444444)) # True\n",
    "print(is_symmetrical(9939))     # False\n",
    "print(is_symmetrical(1112111))  # True\n"
   ]
  },
  {
   "cell_type": "raw",
   "metadata": {},
   "source": [
    "Question 2\n",
    "Given a string of numbers separated by a comma and space, return the product of the numbers.\n",
    "Examples\n",
    "multiply_nums(\"2, 3\") ➞ 6\n",
    "\n",
    "multiply_nums(\"1, 2, 3, 4\") ➞ 24\n",
    "\n",
    "multiply_nums(\"54, 75, 453, 0\") ➞ 0\n",
    "\n",
    "multiply_nums(\"10, -2\") ➞ -20\n",
    "\n"
   ]
  },
  {
   "cell_type": "code",
   "execution_count": 3,
   "metadata": {},
   "outputs": [
    {
     "name": "stdout",
     "output_type": "stream",
     "text": [
      "-20\n"
     ]
    }
   ],
   "source": [
    "from functools import reduce\n",
    "\n",
    "def multiply_nums(nums):\n",
    "    num_list = [int(x) for x in nums.split(\", \")]\n",
    "    return reduce(lambda x, y: x * y, num_list)\n",
    "print(multiply_nums(\"10, -2\"))"
   ]
  },
  {
   "cell_type": "raw",
   "metadata": {},
   "source": [
    "Question 3\n",
    "Create a function that squares every digit of a number.\n",
    "Examples\n",
    "square_digits(9119) ➞ 811181\n",
    "\n",
    "square_digits(2483) ➞ 416649\n",
    "\n",
    "square_digits(3212) ➞ 9414\n",
    "Notes\n",
    "The function receives an integer and must return an integer.\n",
    "\n"
   ]
  },
  {
   "cell_type": "code",
   "execution_count": 6,
   "metadata": {},
   "outputs": [
    {
     "name": "stdout",
     "output_type": "stream",
     "text": [
      "811181\n",
      "416649\n",
      "9414\n"
     ]
    }
   ],
   "source": [
    "def square_digits(num):\n",
    "    # Convert the input number to a string\n",
    "    num_str = str(num)\n",
    "    # Initialize an empty string to store the squared digits\n",
    "    result_str = \"\"\n",
    "    # Loop through each character in the string\n",
    "    for char in num_str:\n",
    "        # Convert the character to an integer, square it, and concatenate the result\n",
    "        result_str += str(int(char) ** 2)\n",
    "    # Convert the result string back to an integer and return it\n",
    "    return int(result_str)\n",
    "print(square_digits(9119))  # Output: 811181\n",
    "print(square_digits(2483))  # Output: 416649\n",
    "print(square_digits(3212))  # Output: 9414"
   ]
  },
  {
   "cell_type": "raw",
   "metadata": {},
   "source": [
    "Question 4\n",
    "Create a function that sorts a list and removes all duplicate items from it.\n",
    "Examples\n",
    "setify([1, 3, 3, 5, 5]) ➞ [1, 3, 5]\n",
    "\n",
    "setify([4, 4, 4, 4]) ➞ [4]\n",
    "\n",
    "setify([5, 7, 8, 9, 10, 15]) ➞ [5, 7, 8, 9, 10, 15]\n",
    "\n",
    "setify([3, 3, 3, 2, 1]) ➞ [1, 2, 3]\n",
    "\n"
   ]
  },
  {
   "cell_type": "code",
   "execution_count": 7,
   "metadata": {},
   "outputs": [
    {
     "name": "stdout",
     "output_type": "stream",
     "text": [
      "[1, 3, 5]\n",
      "[4]\n",
      "[5, 7, 8, 9, 10, 15]\n",
      "[1, 2, 3]\n"
     ]
    }
   ],
   "source": [
    "def setify(lst):\n",
    "    return sorted(set(lst))\n",
    "\n",
    "print(setify([1, 3, 3, 5, 5]))  # Output: [1, 3, 5]\n",
    "print(setify([4, 4, 4, 4]))  # Output: [4]\n",
    "print(setify([5, 7, 8, 9, 10, 15]))  # Output: [5, 7, 8, 9, 10, 15]\n",
    "print(setify([3, 3, 3, 2, 1]))  # Output: [1, 2, 3]\n"
   ]
  },
  {
   "cell_type": "raw",
   "metadata": {},
   "source": [
    "Question 5\n",
    "Create a function that returns the mean of all digits.\n",
    "Examples\n",
    "mean(42) ➞ 3\n",
    "\n",
    "mean(12345) ➞ 3\n",
    "\n",
    "mean(666) ➞ 6\n",
    "Notes\n",
    "The mean of all digits is the sum of digits / how many digits there are (e.g. mean of digits in 512 is (5+1+2)/3(number of digits) = 8/3=2).\n",
    "The mean will always be an integer.\n"
   ]
  },
  {
   "cell_type": "code",
   "execution_count": 9,
   "metadata": {},
   "outputs": [
    {
     "name": "stdout",
     "output_type": "stream",
     "text": [
      "3\n",
      "3\n",
      "6\n"
     ]
    }
   ],
   "source": [
    "def mean(num):\n",
    "    digits = [int(d) for d in str(num)]  # convert num to a list of digits\n",
    "    return sum(digits) // len(digits)   # calculate the mean and round down to the nearest integer\n",
    "print(mean(42))     # Output: 3\n",
    "print(mean(12345))  # Output: 3\n",
    "print(mean(666))    # Output: 6\n"
   ]
  },
  {
   "cell_type": "code",
   "execution_count": null,
   "metadata": {},
   "outputs": [],
   "source": []
  }
 ],
 "metadata": {
  "kernelspec": {
   "display_name": "Python 3",
   "language": "python",
   "name": "python3"
  },
  "language_info": {
   "codemirror_mode": {
    "name": "ipython",
    "version": 3
   },
   "file_extension": ".py",
   "mimetype": "text/x-python",
   "name": "python",
   "nbconvert_exporter": "python",
   "pygments_lexer": "ipython3",
   "version": "3.8.5"
  }
 },
 "nbformat": 4,
 "nbformat_minor": 4
}
