{
 "cells": [
  {
   "cell_type": "markdown",
   "metadata": {},
   "source": [
    " # python_Programming_basic_ Assignment_12"
   ]
  },
  {
   "cell_type": "markdown",
   "metadata": {},
   "source": [
    "1. Write a Python program to Extract Unique values dictionary values?\n"
   ]
  },
  {
   "cell_type": "code",
   "execution_count": 1,
   "metadata": {},
   "outputs": [
    {
     "data": {
      "text/plain": [
       "{'india', 'mishra', 'priya', 'radhika'}"
      ]
     },
     "execution_count": 1,
     "metadata": {},
     "output_type": "execute_result"
    }
   ],
   "source": [
    "def extract():\n",
    "    dictionary={\"name\":\"radhika\",\"title\":\"mishra\",\"country\":\"india\",\"name2\":\"priya\",\"title2\":\"mishra\"}\n",
    "    return set(dictionary.values())\n",
    "extract()\n",
    "    "
   ]
  },
  {
   "cell_type": "markdown",
   "metadata": {},
   "source": [
    "2. Write a Python program to find the sum of all items in a dictionary?\n"
   ]
  },
  {
   "cell_type": "code",
   "execution_count": 2,
   "metadata": {},
   "outputs": [
    {
     "data": {
      "text/plain": [
       "79"
      ]
     },
     "execution_count": 2,
     "metadata": {},
     "output_type": "execute_result"
    }
   ],
   "source": [
    "def sum_val():\n",
    "    dictionary_1={\"a\":1,\"b\":2,\"c\":22,\"d\":54}\n",
    "    sum=0\n",
    "    for i in dictionary_1.values():\n",
    "        sum=sum+i\n",
    "    return sum\n",
    "sum_val()\n",
    "        "
   ]
  },
  {
   "cell_type": "markdown",
   "metadata": {},
   "source": [
    "3. Write a Python program to Merging two Dictionaries?\n"
   ]
  },
  {
   "cell_type": "code",
   "execution_count": 3,
   "metadata": {},
   "outputs": [
    {
     "name": "stdout",
     "output_type": "stream",
     "text": [
      "{'name': 'radhika', 'title': 'mishra', 'country': 'india', 'state': 'jharkhand'}\n"
     ]
    }
   ],
   "source": [
    "dictionary_2={\"name\":\"radhika\",\"title\":\"mishra\"}\n",
    "dictionary_3={\"country\":\"india\",\"state\":\"jharkhand\"}\n",
    "dictionary_2.update(dictionary_3)\n",
    "print(dictionary_2)\n"
   ]
  },
  {
   "cell_type": "markdown",
   "metadata": {},
   "source": [
    "4. Write a Python program to convert key-values list to flat dictionary?\n"
   ]
  },
  {
   "cell_type": "code",
   "execution_count": 4,
   "metadata": {},
   "outputs": [
    {
     "data": {
      "text/plain": [
       "{'a': 54, 'b': 64, 'country': 'india'}"
      ]
     },
     "execution_count": 4,
     "metadata": {},
     "output_type": "execute_result"
    }
   ],
   "source": [
    "list=[(\"a\",54),(\"b\",64),(\"country\",\"india\")]\n",
    "dict(list)"
   ]
  },
  {
   "cell_type": "markdown",
   "metadata": {},
   "source": [
    "5. Write a Python program to insertion at the beginning in OrderedDict?\n"
   ]
  },
  {
   "cell_type": "code",
   "execution_count": 5,
   "metadata": {},
   "outputs": [
    {
     "name": "stdout",
     "output_type": "stream",
     "text": [
      "OrderedDict([('name3', 'ram'), ('name1', 'radhika'), ('name2', 'mishra')])\n"
     ]
    }
   ],
   "source": [
    "from collections import OrderedDict\n",
    "dictionary_4=OrderedDict({\"name1\":\"radhika\",\"name2\":\"mishra\"})\n",
    "dictionary_5={\"name3\":\"ram\"}\n",
    "dictionary_4.update(dictionary_5)\n",
    "dictionary_4.move_to_end(\"name3\",last=False)\n",
    "print(dictionary_4)"
   ]
  },
  {
   "cell_type": "markdown",
   "metadata": {},
   "source": [
    "6. Write a Python program to check order of character in string using OrderedDict()?\n"
   ]
  },
  {
   "cell_type": "code",
   "execution_count": 6,
   "metadata": {},
   "outputs": [
    {
     "name": "stdout",
     "output_type": "stream",
     "text": [
      "OrderedDict([('a', 1), ('b', 2), ('c', 22), ('d', 54)])\n"
     ]
    }
   ],
   "source": [
    "from collections import OrderedDict\n",
    "dictionary_1={\"a\":1,\"b\":2,\"c\":22,\"d\":54}\n",
    "dictionary_final=OrderedDict(dict(sorted(dictionary_1.items())))\n",
    "print(dictionary_final)\n",
    "    "
   ]
  },
  {
   "cell_type": "markdown",
   "metadata": {},
   "source": [
    "7. Write a Python program to sort Python Dictionaries by Key or Value?"
   ]
  },
  {
   "cell_type": "code",
   "execution_count": 7,
   "metadata": {},
   "outputs": [
    {
     "name": "stdout",
     "output_type": "stream",
     "text": [
      "dict_keys(['name', 'title', 'country', 'state'])\n",
      "dict_values(['radhika', 'mishra', 'india', 'jharkhand'])\n"
     ]
    }
   ],
   "source": [
    "dict_6={'name': 'radhika', 'title': 'mishra', 'country': 'india', 'state': 'jharkhand'}\n",
    "key=dict_6.keys()\n",
    "val=dict_6.values()\n",
    "print(key)\n",
    "print(val)"
   ]
  },
  {
   "cell_type": "code",
   "execution_count": null,
   "metadata": {},
   "outputs": [],
   "source": []
  }
 ],
 "metadata": {
  "kernelspec": {
   "display_name": "Python 3",
   "language": "python",
   "name": "python3"
  },
  "language_info": {
   "codemirror_mode": {
    "name": "ipython",
    "version": 3
   },
   "file_extension": ".py",
   "mimetype": "text/x-python",
   "name": "python",
   "nbconvert_exporter": "python",
   "pygments_lexer": "ipython3",
   "version": "3.8.5"
  }
 },
 "nbformat": 4,
 "nbformat_minor": 4
}
